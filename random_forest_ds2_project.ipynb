{
 "cells": [
  {
   "cell_type": "code",
   "execution_count": 1,
   "id": "6d2351c1-ba8f-429a-9bf9-53612216c7ae",
   "metadata": {},
   "outputs": [],
   "source": [
    "import numpy as np\n",
    "import pandas as pd\n",
    "import matplotlib.pyplot as plt\n",
    "import seaborn as sns"
   ]
  },
  {
   "cell_type": "code",
   "execution_count": 2,
   "id": "2c9a3723-a65d-4bc3-ab61-12a55fe63e16",
   "metadata": {
    "tags": []
   },
   "outputs": [],
   "source": [
    "from matplotlib import rcParams\n",
    "rcParams['figure.figsize'] = 15, 5\n",
    "sns.set_style('darkgrid')"
   ]
  },
  {
   "cell_type": "code",
   "execution_count": 3,
   "id": "eb742fd0-2b99-477a-845a-d22aad65ddbf",
   "metadata": {
    "tags": []
   },
   "outputs": [
    {
     "data": {
      "text/html": [
       "<div>\n",
       "<style scoped>\n",
       "    .dataframe tbody tr th:only-of-type {\n",
       "        vertical-align: middle;\n",
       "    }\n",
       "\n",
       "    .dataframe tbody tr th {\n",
       "        vertical-align: top;\n",
       "    }\n",
       "\n",
       "    .dataframe thead th {\n",
       "        text-align: right;\n",
       "    }\n",
       "</style>\n",
       "<table border=\"1\" class=\"dataframe\">\n",
       "  <thead>\n",
       "    <tr style=\"text-align: right;\">\n",
       "      <th></th>\n",
       "      <th>Unnamed: 0</th>\n",
       "      <th>Year</th>\n",
       "      <th>seqn</th>\n",
       "      <th>age</th>\n",
       "      <th>sex</th>\n",
       "      <th>eth</th>\n",
       "      <th>marital</th>\n",
       "      <th>poverty</th>\n",
       "      <th>edu</th>\n",
       "      <th>PHQ9</th>\n",
       "      <th>...</th>\n",
       "      <th>time</th>\n",
       "      <th>mortstat_1</th>\n",
       "      <th>status_all</th>\n",
       "      <th>Diseases_of_heart_1</th>\n",
       "      <th>status_heart</th>\n",
       "      <th>CV_mortality_1</th>\n",
       "      <th>status_CV</th>\n",
       "      <th>Malignant_neoplasms_mortality_1</th>\n",
       "      <th>status_Malignant_neoplasms</th>\n",
       "      <th>PIR</th>\n",
       "    </tr>\n",
       "  </thead>\n",
       "  <tbody>\n",
       "    <tr>\n",
       "      <th>0</th>\n",
       "      <td>1</td>\n",
       "      <td>2005-2006</td>\n",
       "      <td>31131.0</td>\n",
       "      <td>44</td>\n",
       "      <td>Female</td>\n",
       "      <td>black</td>\n",
       "      <td>Married</td>\n",
       "      <td>4.65</td>\n",
       "      <td>some college or AA degree</td>\n",
       "      <td>Minimal</td>\n",
       "      <td>...</td>\n",
       "      <td>159</td>\n",
       "      <td>1</td>\n",
       "      <td>1</td>\n",
       "      <td>1</td>\n",
       "      <td>1</td>\n",
       "      <td>1</td>\n",
       "      <td>1</td>\n",
       "      <td>1</td>\n",
       "      <td>1</td>\n",
       "      <td>high income</td>\n",
       "    </tr>\n",
       "    <tr>\n",
       "      <th>1</th>\n",
       "      <td>2</td>\n",
       "      <td>2005-2006</td>\n",
       "      <td>31132.0</td>\n",
       "      <td>70</td>\n",
       "      <td>Male</td>\n",
       "      <td>white</td>\n",
       "      <td>Married</td>\n",
       "      <td>5.00</td>\n",
       "      <td>college graduate or above</td>\n",
       "      <td>Minimal</td>\n",
       "      <td>...</td>\n",
       "      <td>167</td>\n",
       "      <td>1</td>\n",
       "      <td>1</td>\n",
       "      <td>1</td>\n",
       "      <td>1</td>\n",
       "      <td>1</td>\n",
       "      <td>1</td>\n",
       "      <td>1</td>\n",
       "      <td>1</td>\n",
       "      <td>high income</td>\n",
       "    </tr>\n",
       "    <tr>\n",
       "      <th>2</th>\n",
       "      <td>3</td>\n",
       "      <td>2005-2006</td>\n",
       "      <td>31144.0</td>\n",
       "      <td>21</td>\n",
       "      <td>Male</td>\n",
       "      <td>other</td>\n",
       "      <td>Never married</td>\n",
       "      <td>0.46</td>\n",
       "      <td>high school graduate</td>\n",
       "      <td>Minimal</td>\n",
       "      <td>...</td>\n",
       "      <td>163</td>\n",
       "      <td>1</td>\n",
       "      <td>1</td>\n",
       "      <td>1</td>\n",
       "      <td>1</td>\n",
       "      <td>1</td>\n",
       "      <td>1</td>\n",
       "      <td>1</td>\n",
       "      <td>1</td>\n",
       "      <td>low income</td>\n",
       "    </tr>\n",
       "    <tr>\n",
       "      <th>3</th>\n",
       "      <td>4</td>\n",
       "      <td>2005-2006</td>\n",
       "      <td>31149.0</td>\n",
       "      <td>85</td>\n",
       "      <td>Female</td>\n",
       "      <td>white</td>\n",
       "      <td>Widowed</td>\n",
       "      <td>0.05</td>\n",
       "      <td>9-11th grade</td>\n",
       "      <td>Minimal</td>\n",
       "      <td>...</td>\n",
       "      <td>100</td>\n",
       "      <td>2</td>\n",
       "      <td>2</td>\n",
       "      <td>1</td>\n",
       "      <td>1</td>\n",
       "      <td>1</td>\n",
       "      <td>1</td>\n",
       "      <td>2</td>\n",
       "      <td>2</td>\n",
       "      <td>low income</td>\n",
       "    </tr>\n",
       "    <tr>\n",
       "      <th>4</th>\n",
       "      <td>5</td>\n",
       "      <td>2005-2006</td>\n",
       "      <td>31150.0</td>\n",
       "      <td>79</td>\n",
       "      <td>Male</td>\n",
       "      <td>white</td>\n",
       "      <td>Divorced</td>\n",
       "      <td>1.22</td>\n",
       "      <td>high school graduate</td>\n",
       "      <td>Minimal</td>\n",
       "      <td>...</td>\n",
       "      <td>56</td>\n",
       "      <td>2</td>\n",
       "      <td>2</td>\n",
       "      <td>1</td>\n",
       "      <td>1</td>\n",
       "      <td>1</td>\n",
       "      <td>1</td>\n",
       "      <td>1</td>\n",
       "      <td>1</td>\n",
       "      <td>low income</td>\n",
       "    </tr>\n",
       "  </tbody>\n",
       "</table>\n",
       "<p>5 rows × 47 columns</p>\n",
       "</div>"
      ],
      "text/plain": [
       "   Unnamed: 0       Year     seqn  age     sex    eth        marital  poverty  \\\n",
       "0           1  2005-2006  31131.0   44  Female  black        Married     4.65   \n",
       "1           2  2005-2006  31132.0   70    Male  white        Married     5.00   \n",
       "2           3  2005-2006  31144.0   21    Male  other  Never married     0.46   \n",
       "3           4  2005-2006  31149.0   85  Female  white        Widowed     0.05   \n",
       "4           5  2005-2006  31150.0   79    Male  white       Divorced     1.22   \n",
       "\n",
       "                         edu     PHQ9  ...  time mortstat_1 status_all  \\\n",
       "0  some college or AA degree  Minimal  ...   159          1          1   \n",
       "1  college graduate or above  Minimal  ...   167          1          1   \n",
       "2       high school graduate  Minimal  ...   163          1          1   \n",
       "3               9-11th grade  Minimal  ...   100          2          2   \n",
       "4       high school graduate  Minimal  ...    56          2          2   \n",
       "\n",
       "  Diseases_of_heart_1  status_heart CV_mortality_1 status_CV  \\\n",
       "0                   1             1              1         1   \n",
       "1                   1             1              1         1   \n",
       "2                   1             1              1         1   \n",
       "3                   1             1              1         1   \n",
       "4                   1             1              1         1   \n",
       "\n",
       "  Malignant_neoplasms_mortality_1 status_Malignant_neoplasms          PIR  \n",
       "0                               1                          1  high income  \n",
       "1                               1                          1  high income  \n",
       "2                               1                          1   low income  \n",
       "3                               2                          2   low income  \n",
       "4                               1                          1   low income  \n",
       "\n",
       "[5 rows x 47 columns]"
      ]
     },
     "execution_count": 3,
     "metadata": {},
     "output_type": "execute_result"
    }
   ],
   "source": [
    "socioeconomic_data = pd.read_csv('Data_Sheet_1_Association between socioeconomic status and arteriosclerotic cardiovascular disease risk and cause-specific and all-cause mortality.CSV')\n",
    "socioeconomic_data.head()"
   ]
  },
  {
   "cell_type": "code",
   "execution_count": 4,
   "id": "b9ff9f4c-3229-4174-a1ba-154876af258c",
   "metadata": {},
   "outputs": [
    {
     "data": {
      "text/html": [
       "<div>\n",
       "<style scoped>\n",
       "    .dataframe tbody tr th:only-of-type {\n",
       "        vertical-align: middle;\n",
       "    }\n",
       "\n",
       "    .dataframe tbody tr th {\n",
       "        vertical-align: top;\n",
       "    }\n",
       "\n",
       "    .dataframe thead th {\n",
       "        text-align: right;\n",
       "    }\n",
       "</style>\n",
       "<table border=\"1\" class=\"dataframe\">\n",
       "  <thead>\n",
       "    <tr style=\"text-align: right;\">\n",
       "      <th></th>\n",
       "      <th>Unnamed: 0</th>\n",
       "      <th>seqn</th>\n",
       "      <th>age</th>\n",
       "      <th>poverty</th>\n",
       "      <th>ASCVD</th>\n",
       "      <th>BMI</th>\n",
       "      <th>LS7</th>\n",
       "      <th>ideal_count</th>\n",
       "      <th>mortstat</th>\n",
       "      <th>diabetes</th>\n",
       "      <th>...</th>\n",
       "      <th>Malignant_neoplasms_mortality</th>\n",
       "      <th>time</th>\n",
       "      <th>mortstat_1</th>\n",
       "      <th>status_all</th>\n",
       "      <th>Diseases_of_heart_1</th>\n",
       "      <th>status_heart</th>\n",
       "      <th>CV_mortality_1</th>\n",
       "      <th>status_CV</th>\n",
       "      <th>Malignant_neoplasms_mortality_1</th>\n",
       "      <th>status_Malignant_neoplasms</th>\n",
       "    </tr>\n",
       "  </thead>\n",
       "  <tbody>\n",
       "    <tr>\n",
       "      <th>count</th>\n",
       "      <td>30040.000000</td>\n",
       "      <td>30040.000000</td>\n",
       "      <td>30040.000000</td>\n",
       "      <td>30040.000000</td>\n",
       "      <td>30040.000000</td>\n",
       "      <td>30040.000000</td>\n",
       "      <td>30040.000000</td>\n",
       "      <td>30040.000000</td>\n",
       "      <td>30040.000000</td>\n",
       "      <td>30040.000000</td>\n",
       "      <td>...</td>\n",
       "      <td>30040.000000</td>\n",
       "      <td>30040.000000</td>\n",
       "      <td>30040.000000</td>\n",
       "      <td>30040.000000</td>\n",
       "      <td>30040.000000</td>\n",
       "      <td>30040.000000</td>\n",
       "      <td>30040.000000</td>\n",
       "      <td>30040.000000</td>\n",
       "      <td>30040.000000</td>\n",
       "      <td>30040.000000</td>\n",
       "    </tr>\n",
       "    <tr>\n",
       "      <th>mean</th>\n",
       "      <td>15032.990579</td>\n",
       "      <td>67614.003129</td>\n",
       "      <td>49.596039</td>\n",
       "      <td>2.544541</td>\n",
       "      <td>0.097503</td>\n",
       "      <td>29.274224</td>\n",
       "      <td>7.905826</td>\n",
       "      <td>2.821372</td>\n",
       "      <td>1.103096</td>\n",
       "      <td>1.011385</td>\n",
       "      <td>...</td>\n",
       "      <td>1.025666</td>\n",
       "      <td>90.695972</td>\n",
       "      <td>1.103096</td>\n",
       "      <td>1.103096</td>\n",
       "      <td>1.025866</td>\n",
       "      <td>1.025866</td>\n",
       "      <td>1.031225</td>\n",
       "      <td>1.031225</td>\n",
       "      <td>1.025666</td>\n",
       "      <td>1.025666</td>\n",
       "    </tr>\n",
       "    <tr>\n",
       "      <th>std</th>\n",
       "      <td>8682.716770</td>\n",
       "      <td>20603.506529</td>\n",
       "      <td>17.609247</td>\n",
       "      <td>1.625127</td>\n",
       "      <td>0.296647</td>\n",
       "      <td>7.036777</td>\n",
       "      <td>2.447359</td>\n",
       "      <td>1.496976</td>\n",
       "      <td>0.304089</td>\n",
       "      <td>0.106092</td>\n",
       "      <td>...</td>\n",
       "      <td>0.158139</td>\n",
       "      <td>47.333845</td>\n",
       "      <td>0.304089</td>\n",
       "      <td>0.304089</td>\n",
       "      <td>0.158737</td>\n",
       "      <td>0.158737</td>\n",
       "      <td>0.173928</td>\n",
       "      <td>0.173928</td>\n",
       "      <td>0.158139</td>\n",
       "      <td>0.158139</td>\n",
       "    </tr>\n",
       "    <tr>\n",
       "      <th>min</th>\n",
       "      <td>1.000000</td>\n",
       "      <td>31131.000000</td>\n",
       "      <td>20.000000</td>\n",
       "      <td>0.000000</td>\n",
       "      <td>0.000000</td>\n",
       "      <td>13.180000</td>\n",
       "      <td>0.000000</td>\n",
       "      <td>0.000000</td>\n",
       "      <td>1.000000</td>\n",
       "      <td>1.000000</td>\n",
       "      <td>...</td>\n",
       "      <td>1.000000</td>\n",
       "      <td>1.000000</td>\n",
       "      <td>1.000000</td>\n",
       "      <td>1.000000</td>\n",
       "      <td>1.000000</td>\n",
       "      <td>1.000000</td>\n",
       "      <td>1.000000</td>\n",
       "      <td>1.000000</td>\n",
       "      <td>1.000000</td>\n",
       "      <td>1.000000</td>\n",
       "    </tr>\n",
       "    <tr>\n",
       "      <th>25%</th>\n",
       "      <td>7512.750000</td>\n",
       "      <td>49889.500000</td>\n",
       "      <td>35.000000</td>\n",
       "      <td>1.130000</td>\n",
       "      <td>0.000000</td>\n",
       "      <td>24.400000</td>\n",
       "      <td>6.000000</td>\n",
       "      <td>2.000000</td>\n",
       "      <td>1.000000</td>\n",
       "      <td>1.000000</td>\n",
       "      <td>...</td>\n",
       "      <td>1.000000</td>\n",
       "      <td>50.000000</td>\n",
       "      <td>1.000000</td>\n",
       "      <td>1.000000</td>\n",
       "      <td>1.000000</td>\n",
       "      <td>1.000000</td>\n",
       "      <td>1.000000</td>\n",
       "      <td>1.000000</td>\n",
       "      <td>1.000000</td>\n",
       "      <td>1.000000</td>\n",
       "    </tr>\n",
       "    <tr>\n",
       "      <th>50%</th>\n",
       "      <td>15031.500000</td>\n",
       "      <td>67020.500000</td>\n",
       "      <td>49.000000</td>\n",
       "      <td>2.150000</td>\n",
       "      <td>0.000000</td>\n",
       "      <td>28.100000</td>\n",
       "      <td>8.000000</td>\n",
       "      <td>3.000000</td>\n",
       "      <td>1.000000</td>\n",
       "      <td>1.000000</td>\n",
       "      <td>...</td>\n",
       "      <td>1.000000</td>\n",
       "      <td>89.000000</td>\n",
       "      <td>1.000000</td>\n",
       "      <td>1.000000</td>\n",
       "      <td>1.000000</td>\n",
       "      <td>1.000000</td>\n",
       "      <td>1.000000</td>\n",
       "      <td>1.000000</td>\n",
       "      <td>1.000000</td>\n",
       "      <td>1.000000</td>\n",
       "    </tr>\n",
       "    <tr>\n",
       "      <th>75%</th>\n",
       "      <td>22551.250000</td>\n",
       "      <td>85659.250000</td>\n",
       "      <td>64.000000</td>\n",
       "      <td>4.120000</td>\n",
       "      <td>0.000000</td>\n",
       "      <td>32.760000</td>\n",
       "      <td>10.000000</td>\n",
       "      <td>4.000000</td>\n",
       "      <td>1.000000</td>\n",
       "      <td>1.000000</td>\n",
       "      <td>...</td>\n",
       "      <td>1.000000</td>\n",
       "      <td>130.000000</td>\n",
       "      <td>1.000000</td>\n",
       "      <td>1.000000</td>\n",
       "      <td>1.000000</td>\n",
       "      <td>1.000000</td>\n",
       "      <td>1.000000</td>\n",
       "      <td>1.000000</td>\n",
       "      <td>1.000000</td>\n",
       "      <td>1.000000</td>\n",
       "    </tr>\n",
       "    <tr>\n",
       "      <th>max</th>\n",
       "      <td>30077.000000</td>\n",
       "      <td>102956.000000</td>\n",
       "      <td>85.000000</td>\n",
       "      <td>5.000000</td>\n",
       "      <td>1.000000</td>\n",
       "      <td>130.210000</td>\n",
       "      <td>14.000000</td>\n",
       "      <td>7.000000</td>\n",
       "      <td>2.000000</td>\n",
       "      <td>2.000000</td>\n",
       "      <td>...</td>\n",
       "      <td>2.000000</td>\n",
       "      <td>180.000000</td>\n",
       "      <td>2.000000</td>\n",
       "      <td>2.000000</td>\n",
       "      <td>2.000000</td>\n",
       "      <td>2.000000</td>\n",
       "      <td>2.000000</td>\n",
       "      <td>2.000000</td>\n",
       "      <td>2.000000</td>\n",
       "      <td>2.000000</td>\n",
       "    </tr>\n",
       "  </tbody>\n",
       "</table>\n",
       "<p>8 rows × 25 columns</p>\n",
       "</div>"
      ],
      "text/plain": [
       "         Unnamed: 0           seqn           age       poverty         ASCVD  \\\n",
       "count  30040.000000   30040.000000  30040.000000  30040.000000  30040.000000   \n",
       "mean   15032.990579   67614.003129     49.596039      2.544541      0.097503   \n",
       "std     8682.716770   20603.506529     17.609247      1.625127      0.296647   \n",
       "min        1.000000   31131.000000     20.000000      0.000000      0.000000   \n",
       "25%     7512.750000   49889.500000     35.000000      1.130000      0.000000   \n",
       "50%    15031.500000   67020.500000     49.000000      2.150000      0.000000   \n",
       "75%    22551.250000   85659.250000     64.000000      4.120000      0.000000   \n",
       "max    30077.000000  102956.000000     85.000000      5.000000      1.000000   \n",
       "\n",
       "                BMI           LS7   ideal_count      mortstat      diabetes  \\\n",
       "count  30040.000000  30040.000000  30040.000000  30040.000000  30040.000000   \n",
       "mean      29.274224      7.905826      2.821372      1.103096      1.011385   \n",
       "std        7.036777      2.447359      1.496976      0.304089      0.106092   \n",
       "min       13.180000      0.000000      0.000000      1.000000      1.000000   \n",
       "25%       24.400000      6.000000      2.000000      1.000000      1.000000   \n",
       "50%       28.100000      8.000000      3.000000      1.000000      1.000000   \n",
       "75%       32.760000     10.000000      4.000000      1.000000      1.000000   \n",
       "max      130.210000     14.000000      7.000000      2.000000      2.000000   \n",
       "\n",
       "       ...  Malignant_neoplasms_mortality          time    mortstat_1  \\\n",
       "count  ...                   30040.000000  30040.000000  30040.000000   \n",
       "mean   ...                       1.025666     90.695972      1.103096   \n",
       "std    ...                       0.158139     47.333845      0.304089   \n",
       "min    ...                       1.000000      1.000000      1.000000   \n",
       "25%    ...                       1.000000     50.000000      1.000000   \n",
       "50%    ...                       1.000000     89.000000      1.000000   \n",
       "75%    ...                       1.000000    130.000000      1.000000   \n",
       "max    ...                       2.000000    180.000000      2.000000   \n",
       "\n",
       "         status_all  Diseases_of_heart_1  status_heart  CV_mortality_1  \\\n",
       "count  30040.000000         30040.000000  30040.000000    30040.000000   \n",
       "mean       1.103096             1.025866      1.025866        1.031225   \n",
       "std        0.304089             0.158737      0.158737        0.173928   \n",
       "min        1.000000             1.000000      1.000000        1.000000   \n",
       "25%        1.000000             1.000000      1.000000        1.000000   \n",
       "50%        1.000000             1.000000      1.000000        1.000000   \n",
       "75%        1.000000             1.000000      1.000000        1.000000   \n",
       "max        2.000000             2.000000      2.000000        2.000000   \n",
       "\n",
       "          status_CV  Malignant_neoplasms_mortality_1  \\\n",
       "count  30040.000000                     30040.000000   \n",
       "mean       1.031225                         1.025666   \n",
       "std        0.173928                         0.158139   \n",
       "min        1.000000                         1.000000   \n",
       "25%        1.000000                         1.000000   \n",
       "50%        1.000000                         1.000000   \n",
       "75%        1.000000                         1.000000   \n",
       "max        2.000000                         2.000000   \n",
       "\n",
       "       status_Malignant_neoplasms  \n",
       "count                30040.000000  \n",
       "mean                     1.025666  \n",
       "std                      0.158139  \n",
       "min                      1.000000  \n",
       "25%                      1.000000  \n",
       "50%                      1.000000  \n",
       "75%                      1.000000  \n",
       "max                      2.000000  \n",
       "\n",
       "[8 rows x 25 columns]"
      ]
     },
     "execution_count": 4,
     "metadata": {},
     "output_type": "execute_result"
    }
   ],
   "source": [
    "socioeconomic_data.describe()"
   ]
  },
  {
   "cell_type": "code",
   "execution_count": 5,
   "id": "1084da43-9003-4101-83f9-c51e6bee4051",
   "metadata": {
    "tags": []
   },
   "outputs": [],
   "source": [
    "# there are no missing values in this dataset!"
   ]
  },
  {
   "cell_type": "code",
   "execution_count": 6,
   "id": "25ab3960-78a6-48b8-85fb-409ce02305e5",
   "metadata": {
    "tags": []
   },
   "outputs": [
    {
     "name": "stdout",
     "output_type": "stream",
     "text": [
      "<class 'pandas.core.frame.DataFrame'>\n",
      "RangeIndex: 30040 entries, 0 to 30039\n",
      "Data columns (total 47 columns):\n",
      " #   Column                           Non-Null Count  Dtype  \n",
      "---  ------                           --------------  -----  \n",
      " 0   Unnamed: 0                       30040 non-null  int64  \n",
      " 1   Year                             30040 non-null  object \n",
      " 2   seqn                             30040 non-null  float64\n",
      " 3   age                              30040 non-null  int64  \n",
      " 4   sex                              30040 non-null  object \n",
      " 5   eth                              30040 non-null  object \n",
      " 6   marital                          30040 non-null  object \n",
      " 7   poverty                          30040 non-null  float64\n",
      " 8   edu                              30040 non-null  object \n",
      " 9   PHQ9                             30040 non-null  object \n",
      " 10  ASCVD                            30040 non-null  int64  \n",
      " 11  CHF                              30040 non-null  object \n",
      " 12  CHD                              30040 non-null  object \n",
      " 13  smoke                            30040 non-null  object \n",
      " 14  BMI                              30040 non-null  float64\n",
      " 15  BMI3                             30040 non-null  object \n",
      " 16  Hypertension                     30040 non-null  object \n",
      " 17  CVD                              30040 non-null  object \n",
      " 18  angina                           30040 non-null  object \n",
      " 19  heart.attack                     30040 non-null  object \n",
      " 20  stroke                           30040 non-null  object \n",
      " 21  arthritis                        30040 non-null  object \n",
      " 22  COPD                             30040 non-null  object \n",
      " 23  DM                               30040 non-null  object \n",
      " 24  Parkinson                        30040 non-null  object \n",
      " 25  LS7                              30040 non-null  int64  \n",
      " 26  ideal_count                      30040 non-null  int64  \n",
      " 27  eligstat                         30040 non-null  object \n",
      " 28  mortstat                         30040 non-null  int64  \n",
      " 29  ucod_leading                     30040 non-null  object \n",
      " 30  diabetes                         30040 non-null  int64  \n",
      " 31  hyperten                         30040 non-null  int64  \n",
      " 32  permth_int                       30040 non-null  int64  \n",
      " 33  permth_exm                       30040 non-null  int64  \n",
      " 34  Diseases_of_heart                30040 non-null  int64  \n",
      " 35  CV_mortality                     30040 non-null  int64  \n",
      " 36  Malignant_neoplasms_mortality    30040 non-null  int64  \n",
      " 37  time                             30040 non-null  int64  \n",
      " 38  mortstat_1                       30040 non-null  int64  \n",
      " 39  status_all                       30040 non-null  int64  \n",
      " 40  Diseases_of_heart_1              30040 non-null  int64  \n",
      " 41  status_heart                     30040 non-null  int64  \n",
      " 42  CV_mortality_1                   30040 non-null  int64  \n",
      " 43  status_CV                        30040 non-null  int64  \n",
      " 44  Malignant_neoplasms_mortality_1  30040 non-null  int64  \n",
      " 45  status_Malignant_neoplasms       30040 non-null  int64  \n",
      " 46  PIR                              30040 non-null  object \n",
      "dtypes: float64(3), int64(22), object(22)\n",
      "memory usage: 10.8+ MB\n"
     ]
    }
   ],
   "source": [
    "socioeconomic_data.info()"
   ]
  },
  {
   "cell_type": "code",
   "execution_count": 7,
   "id": "34e318fb-94a8-4f33-8ed9-fd46c74a2705",
   "metadata": {
    "tags": []
   },
   "outputs": [],
   "source": [
    "# we have 46 columns and no null values either."
   ]
  },
  {
   "cell_type": "code",
   "execution_count": 8,
   "id": "113c3798-1d96-4e88-82c3-669d249bf65e",
   "metadata": {
    "tags": []
   },
   "outputs": [],
   "source": [
    "# what we're looking for in this dataset is the outcome of ASCVD (Arteriosclerotic Cardiovascular Disease) and whether or not\n",
    "# the socioeconomic factors listed in the dataset are predictors for it."
   ]
  },
  {
   "cell_type": "code",
   "execution_count": 9,
   "id": "ae500504-3c4c-4c3c-943b-5111f196ce0b",
   "metadata": {
    "tags": []
   },
   "outputs": [
    {
     "data": {
      "image/png": "[encoded data removed]",
      "text/plain": [
       "<Figure size 1500x500 with 1 Axes>"
      ]
     },
     "metadata": {},
     "output_type": "display_data"
    }
   ],
   "source": [
    "sns.countplot(x=socioeconomic_data['ASCVD'])\n",
    "plt.show()"
   ]
  },
  {
   "cell_type": "code",
   "execution_count": 10,
   "id": "170798b8-64de-4619-ad9c-23d4668542ab",
   "metadata": {
    "tags": []
   },
   "outputs": [],
   "source": [
    "# in this dataset, very few of the participants had ASCVD compared to those who did not have it."
   ]
  },
  {
   "cell_type": "code",
   "execution_count": 11,
   "id": "f9e0c629-9ab2-49b7-8830-c6528a84f308",
   "metadata": {
    "tags": []
   },
   "outputs": [
    {
     "data": {
      "text/plain": [
       "ASCVD\n",
       "0    27111\n",
       "1     2929\n",
       "Name: count, dtype: int64"
      ]
     },
     "execution_count": 11,
     "metadata": {},
     "output_type": "execute_result"
    }
   ],
   "source": [
    "socioeconomic_data['ASCVD'].value_counts()"
   ]
  },
  {
   "cell_type": "code",
   "execution_count": 12,
   "id": "e3a2e624-6e01-40f9-b8e9-98a7e264ad64",
   "metadata": {
    "tags": []
   },
   "outputs": [],
   "source": [
    "# to be specific, only 2929 of those in this dataset had ASCVD compared to the 27111 that did not have it."
   ]
  },
  {
   "cell_type": "code",
   "execution_count": 13,
   "id": "f2ca55f6-c213-4c57-bded-44468568ea48",
   "metadata": {
    "tags": []
   },
   "outputs": [
    {
     "data": {
      "image/png": "[encoded data removed]",
      "text/plain": [
       "<Figure size 1500x500 with 1 Axes>"
      ]
     },
     "metadata": {},
     "output_type": "display_data"
    }
   ],
   "source": [
    "sns.countplot(x=socioeconomic_data['ASCVD'], hue='sex', data=socioeconomic_data)\n",
    "plt.show()"
   ]
  },
  {
   "cell_type": "code",
   "execution_count": 14,
   "id": "79b17b7d-f269-4aaa-8e79-0e598381575c",
   "metadata": {
    "tags": []
   },
   "outputs": [],
   "source": [
    "# even though there were slightly fewer men included in this dataset, they make up a higher percentage of the people who\n",
    "# had ASCVD."
   ]
  },
  {
   "cell_type": "code",
   "execution_count": 15,
   "id": "3129a42b-1485-4934-a37c-3c29cecd5ac7",
   "metadata": {
    "tags": []
   },
   "outputs": [],
   "source": [
    "eth_mappings = {'black':0, 'white':1, 'other':2, 'mexican':3}\n",
    "edu_mappings = {'college graduate or above':1, 'high school graduate':2, 'less than 9th grade':3, 'some college or AA degree':4, '9-11th grade':5}\n",
    "PIR_mappings = {'low income':0, 'middle income':1, 'high income':2}"
   ]
  },
  {
   "cell_type": "code",
   "execution_count": 16,
   "id": "5ac745c0-6f03-4529-b447-e09fe33c9cdb",
   "metadata": {
    "tags": []
   },
   "outputs": [],
   "source": [
    "socioeconomic_data['eth'] = socioeconomic_data['eth'].map(eth_mappings)\n",
    "socioeconomic_data['edu'] = socioeconomic_data['edu'].map(edu_mappings)\n",
    "socioeconomic_data['PIR'] = socioeconomic_data['PIR'].map(PIR_mappings)"
   ]
  },
  {
   "cell_type": "code",
   "execution_count": 17,
   "id": "20ab67c8-0882-4cd5-9123-0f31c01f3a68",
   "metadata": {
    "tags": []
   },
   "outputs": [],
   "source": [
    "from sklearn.model_selection import train_test_split\n",
    "\n",
    "X = socioeconomic_data[['poverty', 'eth', 'edu', 'PIR']]\n",
    "y = socioeconomic_data['ASCVD']\n",
    "X_train, X_test, y_train, y_test = train_test_split(X, y, test_size=0.2)"
   ]
  },
  {
   "cell_type": "code",
   "execution_count": 18,
   "id": "a7e19b28-bed1-4377-8af7-ca2ba665efe3",
   "metadata": {},
   "outputs": [],
   "source": [
    "from sklearn.utils.class_weight import compute_class_weight\n",
    "\n",
    "class_weights = compute_class_weight(\n",
    "    class_weight='balanced',\n",
    "    classes=np.unique(y_train),\n",
    "    y=y_train\n",
    ")\n",
    "class_weights_dict = {i: weight for i, weight in enumerate(class_weights)}"
   ]
  },
  {
   "cell_type": "code",
   "execution_count": 19,
   "id": "9f722968-d70e-41a2-b055-e455e33da4d1",
   "metadata": {
    "tags": []
   },
   "outputs": [
    {
     "data": {
      "text/html": [
       "<style>#sk-container-id-1 {color: black;}#sk-container-id-1 pre{padding: 0;}#sk-container-id-1 div.sk-toggleable {background-color: white;}#sk-container-id-1 label.sk-toggleable__label {cursor: pointer;display: block;width: 100%;margin-bottom: 0;padding: 0.3em;box-sizing: border-box;text-align: center;}#sk-container-id-1 label.sk-toggleable__label-arrow:before {content: \"▸\";float: left;margin-right: 0.25em;color: #696969;}#sk-container-id-1 label.sk-toggleable__label-arrow:hover:before {color: black;}#sk-container-id-1 div.sk-estimator:hover label.sk-toggleable__label-arrow:before {color: black;}#sk-container-id-1 div.sk-toggleable__content {max-height: 0;max-width: 0;overflow: hidden;text-align: left;background-color: #f0f8ff;}#sk-container-id-1 div.sk-toggleable__content pre {margin: 0.2em;color: black;border-radius: 0.25em;background-color: #f0f8ff;}#sk-container-id-1 input.sk-toggleable__control:checked~div.sk-toggleable__content {max-height: 200px;max-width: 100%;overflow: auto;}#sk-container-id-1 input.sk-toggleable__control:checked~label.sk-toggleable__label-arrow:before {content: \"▾\";}#sk-container-id-1 div.sk-estimator input.sk-toggleable__control:checked~label.sk-toggleable__label {background-color: #d4ebff;}#sk-container-id-1 div.sk-label input.sk-toggleable__control:checked~label.sk-toggleable__label {background-color: #d4ebff;}#sk-container-id-1 input.sk-hidden--visually {border: 0;clip: rect(1px 1px 1px 1px);clip: rect(1px, 1px, 1px, 1px);height: 1px;margin: -1px;overflow: hidden;padding: 0;position: absolute;width: 1px;}#sk-container-id-1 div.sk-estimator {font-family: monospace;background-color: #f0f8ff;border: 1px dotted black;border-radius: 0.25em;box-sizing: border-box;margin-bottom: 0.5em;}#sk-container-id-1 div.sk-estimator:hover {background-color: #d4ebff;}#sk-container-id-1 div.sk-parallel-item::after {content: \"\";width: 100%;border-bottom: 1px solid gray;flex-grow: 1;}#sk-container-id-1 div.sk-label:hover label.sk-toggleable__label {background-color: #d4ebff;}#sk-container-id-1 div.sk-serial::before {content: \"\";position: absolute;border-left: 1px solid gray;box-sizing: border-box;top: 0;bottom: 0;left: 50%;z-index: 0;}#sk-container-id-1 div.sk-serial {display: flex;flex-direction: column;align-items: center;background-color: white;padding-right: 0.2em;padding-left: 0.2em;position: relative;}#sk-container-id-1 div.sk-item {position: relative;z-index: 1;}#sk-container-id-1 div.sk-parallel {display: flex;align-items: stretch;justify-content: center;background-color: white;position: relative;}#sk-container-id-1 div.sk-item::before, #sk-container-id-1 div.sk-parallel-item::before {content: \"\";position: absolute;border-left: 1px solid gray;box-sizing: border-box;top: 0;bottom: 0;left: 50%;z-index: -1;}#sk-container-id-1 div.sk-parallel-item {display: flex;flex-direction: column;z-index: 1;position: relative;background-color: white;}#sk-container-id-1 div.sk-parallel-item:first-child::after {align-self: flex-end;width: 50%;}#sk-container-id-1 div.sk-parallel-item:last-child::after {align-self: flex-start;width: 50%;}#sk-container-id-1 div.sk-parallel-item:only-child::after {width: 0;}#sk-container-id-1 div.sk-dashed-wrapped {border: 1px dashed gray;margin: 0 0.4em 0.5em 0.4em;box-sizing: border-box;padding-bottom: 0.4em;background-color: white;}#sk-container-id-1 div.sk-label label {font-family: monospace;font-weight: bold;display: inline-block;line-height: 1.2em;}#sk-container-id-1 div.sk-label-container {text-align: center;}#sk-container-id-1 div.sk-container {/* jupyter's `normalize.less` sets `[hidden] { display: none; }` but bootstrap.min.css set `[hidden] { display: none !important; }` so we also need the `!important` here to be able to override the default hidden behavior on the sphinx rendered scikit-learn.org. See: https://github.com/scikit-learn/scikit-learn/issues/21755 */display: inline-block !important;position: relative;}#sk-container-id-1 div.sk-text-repr-fallback {display: none;}</style><div id=\"sk-container-id-1\" class=\"sk-top-container\"><div class=\"sk-text-repr-fallback\"><pre>RandomForestClassifier(bootstrap=False, criterion=&#x27;entropy&#x27;, max_depth=100,\n",
       "                       n_estimators=150)</pre><b>In a Jupyter environment, please rerun this cell to show the HTML representation or trust the notebook. <br />On GitHub, the HTML representation is unable to render, please try loading this page with nbviewer.org.</b></div><div class=\"sk-container\" hidden><div class=\"sk-item\"><div class=\"sk-estimator sk-toggleable\"><input class=\"sk-toggleable__control sk-hidden--visually\" id=\"sk-estimator-id-1\" type=\"checkbox\" checked><label for=\"sk-estimator-id-1\" class=\"sk-toggleable__label sk-toggleable__label-arrow\">RandomForestClassifier</label><div class=\"sk-toggleable__content\"><pre>RandomForestClassifier(bootstrap=False, criterion=&#x27;entropy&#x27;, max_depth=100,\n",
       "                       n_estimators=150)</pre></div></div></div></div></div>"
      ],
      "text/plain": [
       "RandomForestClassifier(bootstrap=False, criterion='entropy', max_depth=100,\n",
       "                       n_estimators=150)"
      ]
     },
     "execution_count": 19,
     "metadata": {},
     "output_type": "execute_result"
    }
   ],
   "source": [
    "from sklearn.ensemble import RandomForestClassifier\n",
    "\n",
    "rfc = RandomForestClassifier(n_estimators=150, criterion=\"entropy\", bootstrap=False, max_depth=100)\n",
    "rfc.fit(X_train, y_train)"
   ]
  },
  {
   "cell_type": "code",
   "execution_count": 20,
   "id": "2ba4956f-f7e5-48a1-b52c-c9fd099adae6",
   "metadata": {
    "tags": []
   },
   "outputs": [
    {
     "name": "stdout",
     "output_type": "stream",
     "text": [
      "Model accuracy score: 0.8873\n"
     ]
    }
   ],
   "source": [
    "rfc_pred = rfc.predict(X_test)\n",
    "from sklearn.metrics import accuracy_score\n",
    "print('Model accuracy score: {0:0.4f}'.format(accuracy_score(y_test, rfc_pred)))"
   ]
  },
  {
   "cell_type": "code",
   "execution_count": 21,
   "id": "17cec5b6-7e6f-46a9-a703-a1e38d43a736",
   "metadata": {
    "tags": []
   },
   "outputs": [
    {
     "data": {
      "image/png": "[encoded data removed]",
      "text/plain": [
       "<Figure size 800x600 with 2 Axes>"
      ]
     },
     "metadata": {},
     "output_type": "display_data"
    }
   ],
   "source": [
    "from sklearn.metrics import confusion_matrix\n",
    "cm = confusion_matrix(y_test, rfc_pred)\n",
    "\n",
    "cm_normalized = cm.astype('float') / cm.sum(axis=1)[:, np.newaxis]\n",
    "\n",
    "labels = [\"Negative ASCVD\", \"Positive ASCVD\"]\n",
    "\n",
    "plt.figure(figsize=(8, 6))\n",
    "sns.heatmap(cm_normalized, annot=True, fmt=\".2%\", xticklabels=labels, yticklabels=labels, cmap=\"Blues\")\n",
    "plt.xlabel(\"Predicted Label\")\n",
    "plt.ylabel(\"True Label\")\n",
    "plt.title(\"Normalized Confusion Matrix Random Forest\")\n",
    "plt.show()"
   ]
  },
  {
   "cell_type": "code",
   "execution_count": 22,
   "id": "a2bf2d01-bb5e-4c1e-8e84-9662da588267",
   "metadata": {
    "tags": []
   },
   "outputs": [
    {
     "name": "stdout",
     "output_type": "stream",
     "text": [
      "              precision    recall  f1-score   support\n",
      "\n",
      "           0       0.91      0.98      0.94      5438\n",
      "           1       0.15      0.04      0.06       570\n",
      "\n",
      "    accuracy                           0.89      6008\n",
      "   macro avg       0.53      0.51      0.50      6008\n",
      "weighted avg       0.83      0.89      0.86      6008\n",
      "\n",
      "[[5309  129]\n",
      " [ 548   22]]\n"
     ]
    }
   ],
   "source": [
    "from sklearn.metrics import classification_report\n",
    "from sklearn.metrics import confusion_matrix\n",
    "\n",
    "print(classification_report(y_test,rfc_pred))\n",
    "print(confusion_matrix(y_test,rfc_pred))"
   ]
  },
  {
   "cell_type": "code",
   "execution_count": null,
   "id": "b77b9820-40cf-4298-bba7-00a38013ed61",
   "metadata": {},
   "outputs": [],
   "source": []
  }
 ],
 "metadata": {
  "kernelspec": {
   "display_name": "Python 3 (ipykernel)",
   "language": "python",
   "name": "python3"
  },
  "language_info": {
   "codemirror_mode": {
    "name": "ipython",
    "version": 3
   },
   "file_extension": ".py",
   "mimetype": "text/x-python",
   "name": "python",
   "nbconvert_exporter": "python",
   "pygments_lexer": "ipython3",
   "version": "3.11.5"
  }
 },
 "nbformat": 4,
 "nbformat_minor": 5
}
